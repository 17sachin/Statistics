{
  "nbformat": 4,
  "nbformat_minor": 0,
  "metadata": {
    "colab": {
      "name": "Assignment_4.ipynb",
      "provenance": [],
      "collapsed_sections": [],
      "authorship_tag": "ABX9TyPtyFXXmAUGMwrl1HGCjSXQ",
      "include_colab_link": true
    },
    "kernelspec": {
      "name": "python3",
      "display_name": "Python 3"
    },
    "language_info": {
      "name": "python"
    }
  },
  "cells": [
    {
      "cell_type": "markdown",
      "metadata": {
        "id": "view-in-github",
        "colab_type": "text"
      },
      "source": [
        "<a href=\"https://colab.research.google.com/github/17sachin/Statistics/blob/main/Assignment_4.ipynb\" target=\"_parent\"><img src=\"https://colab.research.google.com/assets/colab-badge.svg\" alt=\"Open In Colab\"/></a>"
      ]
    },
    {
      "cell_type": "markdown",
      "source": [
        "1.Is it possible that an event is independent of itself? If so, when?\n",
        "\n",
        "The only events that are independent of themselves are those with probability either 0 or 1. That follows from the fact that a number is its own square if and only if it's either 0 or 1. The only way a random variable X can be independent of itself is if for every measurable set A, either Pr(X∈A)=1 or Pr(X∈A)=0\n",
        "\n",
        "Two events are independent, statistically independent, or stochastically independent if the occurrence of one does not affect the probability of occurrence of the other (equivalently, does not affect the odds)."
      ],
      "metadata": {
        "id": "9ayj346099yF"
      }
    },
    {
      "cell_type": "markdown",
      "source": [
        "2.Is it always true that if A and B are independent events, then Ac and Bc are independent events? Show that it is, or give a counterexample.\n",
        "\n",
        "Let A and B be independent events, and let A and C be independent events. How do I show that A and B∪C are independent events as well?\n",
        "\n",
        "According to the definition of independent events, A and B∪C are independent if and only if\n",
        "\n",
        "P(A∩(B∪C))=P(A)P(B∪C).\n",
        "\n",
        "Since A and B and A and C are independent, I know that\n",
        "\n",
        "P(A∩B)=P(A)P(B) and P(A∩C)=P(A)P(C)."
      ],
      "metadata": {
        "id": "mOVmFXKy-Nag"
      }
    }
  ]
}