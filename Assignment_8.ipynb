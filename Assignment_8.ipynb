{
  "nbformat": 4,
  "nbformat_minor": 0,
  "metadata": {
    "colab": {
      "name": "Assignment_8.ipynb",
      "provenance": [],
      "collapsed_sections": [],
      "authorship_tag": "ABX9TyO4yhyC6UrxsNwg6VuPCQ+t",
      "include_colab_link": true
    },
    "kernelspec": {
      "name": "python3",
      "display_name": "Python 3"
    },
    "language_info": {
      "name": "python"
    }
  },
  "cells": [
    {
      "cell_type": "markdown",
      "metadata": {
        "id": "view-in-github",
        "colab_type": "text"
      },
      "source": [
        "<a href=\"https://colab.research.google.com/github/17sachin/Statistics/blob/main/Assignment_8.ipynb\" target=\"_parent\"><img src=\"https://colab.research.google.com/assets/colab-badge.svg\" alt=\"Open In Colab\"/></a>"
      ]
    },
    {
      "cell_type": "markdown",
      "source": [
        "1.A crime is committed by one of two suspects, A and B. Initially, there is equal evidence against both of them. In further investigation at the crime scene, it is found that the guilty party had a blood type found in 10% of the population. Suspect A does match this blood type, whereas the blood type of Suspect B is unknown. (a) Given this new information, what is the probability that A is the guilty party? (b) Given this new information, what is the\n",
        "probability that B’s blood type matches that found at the crime scene?\n",
        "\n",
        "Ans\n",
        "\n",
        "Define events\n",
        "\n",
        "A: {A is guilty}\n",
        "\n",
        "B: {B is Guilty}\n",
        "\n",
        "MA = {A's Blood matches the guilty party}\n",
        "\n",
        "MB = {B's Blood matches the guilty party}\n",
        "\n",
        "(a) we want to calculate P(A/MA) .Use Byes rule to Calculcate\n",
        "\n",
        "P(A/MA) =  P(MA|A)P(A)/P(MA|A)P(A)+P(MA|B)P(B) \n",
        "\n",
        "(1.1/2)/(1.1/2)+(1/10* 1/2) =  10/11\n",
        "\n",
        "b  we wan to calculate P(MB/MA). Use Lots to obtain\n",
        "\n",
        "P(MB|MA) = P(MB|MA.A)P(A|MA)+P(MB/MB.A)P(B|MA)\n",
        "\n",
        "= 1/10*10/11 + 1.1/11 = 2/11"
      ],
      "metadata": {
        "id": "SVP7_UuNCXZg"
      }
    }
  ]
}