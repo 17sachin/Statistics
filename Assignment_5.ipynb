{
  "nbformat": 4,
  "nbformat_minor": 0,
  "metadata": {
    "colab": {
      "name": "Assignment_5.ipynb",
      "provenance": [],
      "collapsed_sections": [],
      "authorship_tag": "ABX9TyPlL+X9WS9W+3l9wxX/veh3",
      "include_colab_link": true
    },
    "kernelspec": {
      "name": "python3",
      "display_name": "Python 3"
    },
    "language_info": {
      "name": "python"
    }
  },
  "cells": [
    {
      "cell_type": "markdown",
      "metadata": {
        "id": "view-in-github",
        "colab_type": "text"
      },
      "source": [
        "<a href=\"https://colab.research.google.com/github/17sachin/Statistics/blob/main/Assignment_5.ipynb\" target=\"_parent\"><img src=\"https://colab.research.google.com/assets/colab-badge.svg\" alt=\"Open In Colab\"/></a>"
      ]
    },
    {
      "cell_type": "markdown",
      "source": [
        "Give an example of 3 events A, B, C which are pairwise independent but not independent.\n",
        "Hint: find an example where whether C occurs is completely determined if we know whether\n",
        "A occurred and whether B occurred, but completely undetermined if we know only one of these things.\n",
        "\n",
        "We throw two dice. Let A be the event “the sum of the points is 7”, B the event “die #1\n",
        "\n",
        "came up 3”, and C the event “die #2 came up 4”. Now, P[A] = P[B] = P[C] = 1/6.\n",
        "\n",
        "Also,\n",
        "\n",
        "P[A ∩ B] = P[A ∩ C] = P[B ∩ C] = 1/36\n",
        "\n",
        "so that all events are pairwise independent. However,\n",
        "\n",
        "P[A ∩ B ∩ C] = P[B ∩ C] = 1/36\n",
        "\n",
        "while\n",
        "\n",
        "P[A]P[B]P[C] = 1/216\n",
        "\n",
        "so they are not independent as a triplet.\n",
        "\n",
        "First, note that, indeed, P[A ∩ B] = P[B ∩ C] = 1/36, since the fact that A and B occurred is the same as the fact that B and C occurred."
      ],
      "metadata": {
        "id": "iRpTCjCk_p_s"
      }
    },
    {
      "cell_type": "markdown",
      "source": [
        "2.A bag contains one marble which is either green or blue, with equal probabilities. A green marble is put in the bag (so there are 2 marbles now), and then a random marble is taken out. The marble taken out is green. What is the probability that the remaining marble is also green?\n",
        "\n",
        "Let G represents green marble and B represents Blue marble. According to the question. After putting a green marble in the bag, we have Let already present marble in the bag is green. Then, after taking green marble. Probability that the remaining marble is also green =1 Let already present marble in the bag is blue, then after taking green marble. Probability that the remaining marble is also green = 0 So, required probability =0+1=1"
      ],
      "metadata": {
        "id": "ZuOKGe_f_8RE"
      }
    }
  ]
}